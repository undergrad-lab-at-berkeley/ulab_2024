{
 "cells": [
  {
   "cell_type": "markdown",
   "id": "f64ea8b9-97fa-4a44-b952-7bdff856f76c",
   "metadata": {},
   "source": [
    "# HW 16 - Animation\n",
    "ULAB - Physics and Astronomy Division \\\n",
    "Due **Sunday, March 16th, 2025 at 11:59pm** on Gradescope\n",
    "\n",
    "**Make sure to work on this notebook in DataHub!**\n",
    "\n",
    "# 1) Recap of lecture\n",
    "**Copy and paste** your code from lecture for the neural network with the **default** settings (i.e. before we improved the model). Make sure to also import the `data.py` file. "
   ]
  },
  {
   "cell_type": "code",
   "execution_count": null,
   "id": "8a92d212-984e-4aa1-8d8e-90695822b230",
   "metadata": {},
   "outputs": [],
   "source": [
    "# Your code here"
   ]
  },
  {
   "cell_type": "markdown",
   "id": "af24faec-4324-494c-b38a-4f202597c778",
   "metadata": {},
   "source": [
    "What is the difference between artificial intelligence, machine learning and deep learning?"
   ]
  },
  {
   "cell_type": "code",
   "execution_count": null,
   "id": "8f65992b-8480-4e5f-b776-8f12dfa3af93",
   "metadata": {},
   "outputs": [],
   "source": [
    "# Your comment here "
   ]
  },
  {
   "cell_type": "markdown",
   "id": "3eec2cdf-8c44-4ceb-8c71-31e404b334c6",
   "metadata": {},
   "source": [
    "What is a neural network?"
   ]
  },
  {
   "cell_type": "code",
   "execution_count": null,
   "id": "d629e86d-bb56-47aa-bea3-3c52c01e47d0",
   "metadata": {},
   "outputs": [],
   "source": [
    "# Your comment here"
   ]
  },
  {
   "cell_type": "markdown",
   "id": "d26c6ce7-9c55-4d51-af1b-ebd44efb41f0",
   "metadata": {},
   "source": [
    "In lecture, we used `torch.nn.Linear(2, 50)`. What do the numbers `2` and `50` represent? "
   ]
  },
  {
   "cell_type": "code",
   "execution_count": 1,
   "id": "570cf33a-3e77-4d6f-aaa6-d57b925f94f8",
   "metadata": {},
   "outputs": [],
   "source": [
    "# Your comment here"
   ]
  },
  {
   "cell_type": "markdown",
   "id": "b22255b9-875d-4d55-9b81-8a7ddcff63ff",
   "metadata": {},
   "source": [
    "What does the activation function do?"
   ]
  },
  {
   "cell_type": "code",
   "execution_count": null,
   "id": "4f8ae436-854e-4da0-babe-e20ec60b33a1",
   "metadata": {},
   "outputs": [],
   "source": [
    "# Your comment here"
   ]
  },
  {
   "cell_type": "markdown",
   "id": "ffaaf982-6605-45db-8dad-4b42124793e1",
   "metadata": {},
   "source": [
    "What is a loss function? Why do we need one?"
   ]
  },
  {
   "cell_type": "code",
   "execution_count": null,
   "id": "949bcb88-9cb6-402b-9b30-048ac3b82347",
   "metadata": {},
   "outputs": [],
   "source": [
    "# Your comment here"
   ]
  },
  {
   "cell_type": "markdown",
   "id": "feb58806-7764-447f-bdc6-8ca26bddc2df",
   "metadata": {},
   "source": [
    "Why do we call `optimizer.zero_grad()` before calling `loss.backward()`?"
   ]
  },
  {
   "cell_type": "code",
   "execution_count": null,
   "id": "15669992-bfe6-4cc4-b646-eb4ce9516456",
   "metadata": {},
   "outputs": [],
   "source": [
    "# Your comment here"
   ]
  },
  {
   "cell_type": "markdown",
   "id": "00058421-3ebe-4089-b501-6a792a0f55dc",
   "metadata": {},
   "source": [
    "# 2) Modifying the Neural Network\n",
    "What line do you need to modify to use **30 neurons** instead of **50**? Don't change anything else. Give the original and then modified line. "
   ]
  },
  {
   "cell_type": "code",
   "execution_count": 6,
   "id": "b4a437c1-9985-47a9-800f-70c68c5991c6",
   "metadata": {},
   "outputs": [],
   "source": [
    "# Your code here"
   ]
  },
  {
   "cell_type": "markdown",
   "id": "ee2d0d30-0f73-4e8b-bc29-9baa082c85c7",
   "metadata": {},
   "source": [
    "With your default code above, run your model with **30 neurons**. Compare the loss functions from lecture to your modification on the **1000th** iteration. "
   ]
  },
  {
   "cell_type": "code",
   "execution_count": 8,
   "id": "91b9a1a9-ee3c-45e8-98ca-7d0acb7ce063",
   "metadata": {},
   "outputs": [],
   "source": [
    "# Your comment here"
   ]
  },
  {
   "cell_type": "markdown",
   "id": "93701af6-bf34-4903-a267-7f29e7c06cee",
   "metadata": {},
   "source": [
    "Return to **50 neurons**. Change your activation function from `torch.nn.Sigmoid()` to `torch.nn.ReLU`. Compare the loss functions from lecture to your modification on the **1000th** iteration. "
   ]
  },
  {
   "cell_type": "code",
   "execution_count": 10,
   "id": "0130ffcf-3622-4275-b7aa-b9c116bd8962",
   "metadata": {},
   "outputs": [],
   "source": [
    "# Your comment here"
   ]
  },
  {
   "cell_type": "markdown",
   "id": "0cc32f30-c05a-4c79-ae9c-fe7909668bef",
   "metadata": {},
   "source": [
    "Change your activation function from `torch.nn.Sigmoid()` to `torch.nn.Tanh`? Compare the loss functions from lecture to your modification on the **1000th** iteration. "
   ]
  },
  {
   "cell_type": "code",
   "execution_count": null,
   "id": "cf319a16-d707-4c80-a326-d7248ffec8d0",
   "metadata": {},
   "outputs": [],
   "source": [
    "# Your comment here"
   ]
  },
  {
   "cell_type": "markdown",
   "id": "b7b14d48-603a-4463-b710-bf4a886e980a",
   "metadata": {},
   "source": [
    "What is the difference between `torch.nn.Sigmoid()`, `torch.nn.ReLU` and `torch.nn.Tanh`? "
   ]
  },
  {
   "cell_type": "code",
   "execution_count": null,
   "id": "8d3c5a56-5108-439b-a8a6-110d703ddd08",
   "metadata": {},
   "outputs": [],
   "source": [
    "# Your comment here "
   ]
  },
  {
   "cell_type": "markdown",
   "id": "9d3d3b23-ddac-4499-ab68-f2172df71379",
   "metadata": {},
   "source": [
    "Return to `torch.nn.Sigmoid()`. Change your learning rate from `1e-3` to `1e-2` in your optimizer. Compare the loss functions from lecture to your modification on the **1000th** iteration. "
   ]
  },
  {
   "cell_type": "code",
   "execution_count": 11,
   "id": "6dd3f16b-d949-4eb1-8cd6-cc2087742f92",
   "metadata": {},
   "outputs": [],
   "source": [
    "# Your comment here"
   ]
  },
  {
   "cell_type": "markdown",
   "id": "a1f307e0-a911-46c9-9abb-0715723901a2",
   "metadata": {},
   "source": [
    "Modify your model to have **two hidden layers** instead of one. Give that code here."
   ]
  },
  {
   "cell_type": "code",
   "execution_count": 12,
   "id": "00437761-f418-4854-aaf8-4d51eecf33ea",
   "metadata": {},
   "outputs": [],
   "source": [
    "# Your code here"
   ]
  },
  {
   "cell_type": "markdown",
   "id": "301c020d-e162-4b7e-a5d3-88ade786c2f4",
   "metadata": {},
   "source": [
    "# 3) More Advanced\n",
    "Create a new file called `new_data.py`, make a new \"hidden\" function and add noise/ obscure the data (e.g. like what is done in `data.py` from lecture). Import that file here."
   ]
  },
  {
   "cell_type": "code",
   "execution_count": 13,
   "id": "50bdfc18-d57a-4120-a7df-49e1e31a4961",
   "metadata": {},
   "outputs": [],
   "source": [
    "# Your code here"
   ]
  },
  {
   "cell_type": "markdown",
   "id": "7e2d96e8-474a-4be3-87aa-aa97fc478042",
   "metadata": {},
   "source": [
    "Define a new model and train it **poorly** in the cell below."
   ]
  },
  {
   "cell_type": "code",
   "execution_count": 14,
   "id": "b522ec91-7f34-4648-adfc-7f422dfd6fba",
   "metadata": {},
   "outputs": [],
   "source": [
    "# Your code here"
   ]
  },
  {
   "cell_type": "markdown",
   "id": "e40d51f6-9dae-40b5-aaa6-59965de12f9e",
   "metadata": {},
   "source": [
    "Improve your model and train it **well** in the cell below. (You can add more neurons, iterations, etc)."
   ]
  },
  {
   "cell_type": "markdown",
   "id": "2188ba64-615c-4f1b-afcb-d143c4177a76",
   "metadata": {},
   "source": [
    "Make foure subplots (two rows, two columns). \n",
    "- (TOP LEFT) Show what the \"hidden pattern\" is supposed to be.\n",
    "- (TOP RIGHT) Show that your \"data\" is.\n",
    "- (BOTTOM LEFT) Show your model's prediction when you trained it poorly.\n",
    "- (BOTTOM RIGHT) Show your model's prediction when you trained it well."
   ]
  },
  {
   "cell_type": "code",
   "execution_count": 15,
   "id": "209c213f-79b1-4345-b779-f1a8c2f1baab",
   "metadata": {},
   "outputs": [],
   "source": [
    "# Your code here"
   ]
  },
  {
   "cell_type": "markdown",
   "id": "efe9f4e7-4e78-436f-a7b1-5bb9dbeabbb2",
   "metadata": {},
   "source": [
    "# 4) Challenge\n",
    "Find some data online and build a neural network around it. Make sure to also answer these questions:\n",
    "- Where did you find your data? \n",
    "- How well does your model match your data?"
   ]
  },
  {
   "cell_type": "code",
   "execution_count": null,
   "id": "f8782637-11a2-485b-9501-bceebc1e3f9f",
   "metadata": {},
   "outputs": [],
   "source": [
    "# Your code here"
   ]
  },
  {
   "cell_type": "markdown",
   "id": "492582c4-529e-45a0-874b-698c5004c790",
   "metadata": {},
   "source": [
    "Once you are done, make sure to:\n",
    "- Download this notebook and all releveant files (`new_data.py`, stuff from question 4, etc) from datahub.\n",
    "- Move it to your **remote repository**.\n",
    "- Upload to Gradescope!"
   ]
  }
 ],
 "metadata": {
  "kernelspec": {
   "display_name": "Python 3 (ipykernel)",
   "language": "python",
   "name": "python3"
  },
  "language_info": {
   "codemirror_mode": {
    "name": "ipython",
    "version": 3
   },
   "file_extension": ".py",
   "mimetype": "text/x-python",
   "name": "python",
   "nbconvert_exporter": "python",
   "pygments_lexer": "ipython3",
   "version": "3.11.11"
  }
 },
 "nbformat": 4,
 "nbformat_minor": 5
}
