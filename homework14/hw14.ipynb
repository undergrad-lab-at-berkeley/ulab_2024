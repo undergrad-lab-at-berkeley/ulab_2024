{
 "cells": [
  {
   "cell_type": "markdown",
   "id": "fd000063-1d17-4f9c-93bb-94b55d64ef16",
   "metadata": {},
   "source": [
    "# HW 14 - Astropy\n",
    "ULAB - Physics and Astronomy Division \\\n",
    "Due **Sunday, March 1st, 2025 at 11:59pm** on Gradescope"
   ]
  },
  {
   "cell_type": "markdown",
   "id": "729be9a4-5077-4873-af80-af7addb12e6c",
   "metadata": {},
   "source": [
    "## 1 Unit Conversion\n",
    "Import the astropy module `units` as `u` in the cell below."
   ]
  },
  {
   "cell_type": "code",
   "execution_count": null,
   "id": "28b5cf25-192a-436d-b2db-b7b3b1362022",
   "metadata": {},
   "outputs": [],
   "source": [
    "# Your code here"
   ]
  },
  {
   "cell_type": "markdown",
   "id": "c686e43f-6f92-455c-96f1-6c13cd08bf97",
   "metadata": {},
   "source": [
    "Convert a speed of **60 km/h** to **m/s**. \\\n",
    "\\\n",
    "Round your answer to two significant digits. *Hint: With an f-string, you can use `:.3f`, like `print(f\"{speed_mps:.3f}\")`*."
   ]
  },
  {
   "cell_type": "code",
   "execution_count": null,
   "id": "48c8e21f-eff6-4eb0-9471-40adcf0bc471",
   "metadata": {},
   "outputs": [],
   "source": [
    "# Your code here"
   ]
  },
  {
   "cell_type": "markdown",
   "id": "f0ae9f53-8a35-48ca-bdb4-868197a8434b",
   "metadata": {},
   "source": [
    "## 2 Time Manipulation\n",
    "Define **Julian Date** in the cell below."
   ]
  },
  {
   "cell_type": "code",
   "execution_count": null,
   "id": "9835bc53-ee24-4030-8562-67e27247f2ba",
   "metadata": {},
   "outputs": [],
   "source": [
    "# Your comment here"
   ]
  },
  {
   "cell_type": "markdown",
   "id": "991d12f3-49b2-4c1c-8ec1-632a3b4a16f4",
   "metadata": {},
   "source": [
    "What's the difference between the **Julian calendar** and the **Gregorian calendar**?"
   ]
  },
  {
   "cell_type": "code",
   "execution_count": null,
   "id": "f5a269a8-9246-4b2f-9439-48c3b361a653",
   "metadata": {},
   "outputs": [],
   "source": [
    "# Your comment here"
   ]
  },
  {
   "cell_type": "markdown",
   "id": "1b3562d6-bd29-46cd-a09f-2d9a7673cce1",
   "metadata": {},
   "source": [
    "From the astropy module `time` import `Time` in the cell below."
   ]
  },
  {
   "cell_type": "code",
   "execution_count": null,
   "id": "19858a4f-b4d6-4736-9615-6df29c416d6c",
   "metadata": {},
   "outputs": [],
   "source": [
    "# Your code here"
   ]
  },
  {
   "cell_type": "markdown",
   "id": "f0416ed4-f6af-4021-969a-d6290f60e28b",
   "metadata": {},
   "source": [
    "Find the Julian Date for **the current time**. "
   ]
  },
  {
   "cell_type": "code",
   "execution_count": null,
   "id": "08e15a45-ed7b-43d2-988b-b488a10e26b1",
   "metadata": {},
   "outputs": [],
   "source": [
    "# Your code here"
   ]
  },
  {
   "cell_type": "markdown",
   "id": "c375286c-d15e-4d90-8cb6-eac73c78fb72",
   "metadata": {},
   "source": [
    "Convert `1969-07-02 20:17:00` to its **Julian Date**."
   ]
  },
  {
   "cell_type": "code",
   "execution_count": null,
   "id": "3a1cc832-44d1-4e2c-a028-2aa1d45a609c",
   "metadata": {},
   "outputs": [],
   "source": [
    "# Your code here"
   ]
  },
  {
   "cell_type": "markdown",
   "id": "b6208375-f8ca-4ad6-98db-ef0ad4575386",
   "metadata": {},
   "source": [
    "What historically happened at this date and time?"
   ]
  },
  {
   "cell_type": "code",
   "execution_count": null,
   "id": "dd81b58b-a542-40ca-8911-950c400a33d7",
   "metadata": {},
   "outputs": [],
   "source": [
    "# Your comment here "
   ]
  },
  {
   "cell_type": "markdown",
   "id": "229f3cc9-dfc1-4e1d-8aa4-3b6db4c97037",
   "metadata": {},
   "source": [
    "## 3 Coordinate Transformations\n",
    "From the astropy module `coordinates` import `SkyCoord`, `Galactic`, `AltAz` and `EarthLocation` in the cell below."
   ]
  },
  {
   "cell_type": "code",
   "execution_count": null,
   "id": "b8aa3dfc-9bb6-4d47-bbae-fca41b0814a7",
   "metadata": {},
   "outputs": [],
   "source": [
    "# Your code here "
   ]
  },
  {
   "cell_type": "markdown",
   "id": "a6338305-0b35-4913-975a-99a496f7154d",
   "metadata": {},
   "source": [
    "Define a celestial object at **RA = 15 degrees** and **DEC = -20 degrees** in ICRS. Use the astropy `Time` module."
   ]
  },
  {
   "cell_type": "code",
   "execution_count": null,
   "id": "9a154a76-f825-4c00-9588-c940f8f2b852",
   "metadata": {},
   "outputs": [],
   "source": [
    "# Your code here"
   ]
  },
  {
   "cell_type": "markdown",
   "id": "0325b72e-eb0c-4cdc-88bb-207653cba56d",
   "metadata": {},
   "source": [
    "Convert the object's coordinates from ICSRS to **Galactic**."
   ]
  },
  {
   "cell_type": "code",
   "execution_count": null,
   "id": "ce584281-9f03-4c75-aaa2-50b7ae0b4c22",
   "metadata": {},
   "outputs": [],
   "source": [
    "# Your code here"
   ]
  },
  {
   "cell_type": "markdown",
   "id": "0ac3942a-05b0-434b-98ea-9c521528ddca",
   "metadata": {},
   "source": [
    "Convert the object's coordinate from ICRS to **AltAz**. For AltAz frame, use the location of **Campbell Hall**."
   ]
  },
  {
   "cell_type": "code",
   "execution_count": null,
   "id": "b1ea2da5-4f01-4370-8b28-3558b41bbb48",
   "metadata": {},
   "outputs": [],
   "source": [
    "# Your code here"
   ]
  },
  {
   "cell_type": "markdown",
   "id": "87667b47-a7af-4f28-b9aa-bc91e57f44e9",
   "metadata": {},
   "source": [
    "## 4 FITS Files\n",
    "From the astropy module `astropy.io` import `fits` in the cell below."
   ]
  },
  {
   "cell_type": "code",
   "execution_count": null,
   "id": "c1a1243c-af52-4989-843e-381faaab1271",
   "metadata": {},
   "outputs": [],
   "source": [
    "# Your code here"
   ]
  },
  {
   "cell_type": "markdown",
   "id": "e5c6384b-7ebe-467f-9c77-1b98acef87e3",
   "metadata": {},
   "source": [
    "From the astropy module `astropy.utils.data` import `download_file`."
   ]
  },
  {
   "cell_type": "code",
   "execution_count": null,
   "id": "db4d88a6-39d6-46ef-968f-08f4795f76d7",
   "metadata": {},
   "outputs": [],
   "source": [
    "# Your code here"
   ]
  },
  {
   "cell_type": "markdown",
   "id": "b872336f-13fe-42f1-a7dc-7ae9cae551d6",
   "metadata": {},
   "source": [
    "Import `numpy` in the cell below."
   ]
  },
  {
   "cell_type": "code",
   "execution_count": null,
   "id": "13811d38-24bc-41de-8050-b428bfb5a385",
   "metadata": {},
   "outputs": [],
   "source": [
    "# Your code here"
   ]
  },
  {
   "cell_type": "markdown",
   "id": "bebe1360-4615-4354-a877-cefd66ca7a90",
   "metadata": {},
   "source": [
    "Use the `download_file` astropy function to create a variable for the location of the `.fits` file from class."
   ]
  },
  {
   "cell_type": "code",
   "execution_count": null,
   "id": "728463b1-e00f-4936-8dca-feaa2c33d971",
   "metadata": {},
   "outputs": [],
   "source": [
    "image_file = download_file('http://data.astropy.org/tutorials/FITS-images/HorseHead.fits', cache=True)"
   ]
  },
  {
   "cell_type": "markdown",
   "id": "bbde96ae-9ca2-497e-ac41-14763727855d",
   "metadata": {},
   "source": [
    "Follow the procedure from lecture to open the `.fits` files in the cell below. Make sure to use the `hdul` format, while calling `hdul.info`, `hdul[0]` and `hdul[1]` appropriately."
   ]
  },
  {
   "cell_type": "code",
   "execution_count": null,
   "id": "40ebd8f9-e5bd-49d2-8db6-051ad05363ec",
   "metadata": {},
   "outputs": [],
   "source": [
    "# Your code here"
   ]
  },
  {
   "cell_type": "markdown",
   "id": "c0a613f5-6610-412b-ab7c-edd9820f6632",
   "metadata": {},
   "source": [
    "With the `np.max` function, find the brightest pixel in the image. Print its value in the cell below."
   ]
  },
  {
   "cell_type": "code",
   "execution_count": null,
   "id": "d16bf23f-06d8-4c9e-a40f-f174ba82b77f",
   "metadata": {},
   "outputs": [],
   "source": [
    "# Your code here"
   ]
  },
  {
   "cell_type": "markdown",
   "id": "cf509f84-6f5a-4e0d-b8a1-8e730550fa0a",
   "metadata": {},
   "source": [
    "With the `np.min` function, find the least brightest pixel in the image. Print its value in the cell below."
   ]
  },
  {
   "cell_type": "code",
   "execution_count": null,
   "id": "498105af-1ca7-4c8d-9718-52a5ee5fae69",
   "metadata": {},
   "outputs": [],
   "source": [
    "# Your code here"
   ]
  },
  {
   "cell_type": "markdown",
   "id": "463ebaf6-4c33-4c5b-afb6-015d1aebaeb8",
   "metadata": {},
   "source": [
    "## Tables\n",
    "From the astropy module `astropy.table` import `Table`."
   ]
  },
  {
   "cell_type": "code",
   "execution_count": null,
   "id": "10a4985f-4420-41c0-867b-8fdb6f2e4182",
   "metadata": {},
   "outputs": [],
   "source": [
    "# Your code here"
   ]
  },
  {
   "cell_type": "markdown",
   "id": "4c777abc-f0e5-41c7-811a-901fd8ced4c1",
   "metadata": {},
   "source": [
    "Make an astropy table with **three** actual stars (so you will need to use google for this part). Include the `name`, `magnitude` and `spectral type`."
   ]
  },
  {
   "cell_type": "code",
   "execution_count": null,
   "id": "9533aaf3-77ea-4434-b630-d677b5815a7f",
   "metadata": {},
   "outputs": [],
   "source": [
    "# Your code here"
   ]
  },
  {
   "cell_type": "markdown",
   "id": "ae95e4ff-45c6-4f3d-ba4e-b37e7a65aa71",
   "metadata": {},
   "source": [
    "Save the table as a `.fits` file. *Hint: Use the function `.write` with the argument `format='fits'`.*"
   ]
  },
  {
   "cell_type": "code",
   "execution_count": null,
   "id": "74e439e4-2661-4ad6-b83c-b11d4247fb05",
   "metadata": {},
   "outputs": [],
   "source": [
    "# Your code here"
   ]
  },
  {
   "cell_type": "markdown",
   "id": "ff3e1ccf-bd82-45cc-8f7b-449196e55d9e",
   "metadata": {},
   "source": [
    "Read and print the table in the cell below from the `.fits` file you made."
   ]
  },
  {
   "cell_type": "code",
   "execution_count": null,
   "id": "89bf2bb5-4590-43b3-9ac0-bfb23685fd2a",
   "metadata": {},
   "outputs": [],
   "source": [
    "# Your code here"
   ]
  },
  {
   "cell_type": "markdown",
   "id": "393dda56-b867-4981-a7ee-5407b1d05bee",
   "metadata": {},
   "source": [
    "## 6 Advanced... but awesome!\n",
    "With the Hipparcos catalog, construct a Hertzsprung-Russell (H-R) diagram. Overall you will do the following:\n",
    "* Download and clean the stellar data from the Hipparcos catalog.\n",
    "* Calculate the absolute magnitude of the stars.\n",
    "* Convert and classify spectral types.\n",
    "* Plot an H-R diagram using both spectral class and color-index (B-V).\n",
    "\n",
    "In the cell below, define what an **H-R** diagram is."
   ]
  },
  {
   "cell_type": "code",
   "execution_count": null,
   "id": "2b14f45b-ec4c-4cbe-9468-8cb4fd995a20",
   "metadata": {},
   "outputs": [],
   "source": [
    "# Your comment here"
   ]
  },
  {
   "cell_type": "markdown",
   "id": "8f65393f-1743-4e24-aaba-f31dc7bba511",
   "metadata": {},
   "source": [
    "### 6.1 Download and Load in the Hipparcos Catalog\n",
    "The catalog you are downloading contains accurate parallax measurements which will help us determine the **absolute magnitude** of stars. \n",
    "* **Absolute mangitude** = the actual brightness of a star\n",
    "* **Apparent magnitude** = how bright the star appears to us on Earth\n",
    "\n",
    "Import `pandas` in the cell below."
   ]
  },
  {
   "cell_type": "code",
   "execution_count": null,
   "id": "a6ab5b79-7f80-4360-b927-7c71cf59befd",
   "metadata": {},
   "outputs": [],
   "source": [
    "# Your code here"
   ]
  },
  {
   "cell_type": "markdown",
   "id": "8d14b890-a590-4a57-8ef4-f5767542fde9",
   "metadata": {},
   "source": [
    "In the cell below import the file `cluster_data.csv` as a pandas dataframe. Add the following arguments:\n",
    "* skiprows=44\n",
    "* sep=';'\n",
    "* header=None\n",
    "* index_col=0\n",
    "* names = ['HIP', 'Vmag', 'Plx', 'B-V', 'SpType']\n",
    "* skipfooter=1\n",
    "* engine='python'"
   ]
  },
  {
   "cell_type": "code",
   "execution_count": null,
   "id": "6f06d160-286d-4f5e-8b1d-6f3f98bde538",
   "metadata": {},
   "outputs": [],
   "source": [
    "# Your code here"
   ]
  },
  {
   "cell_type": "markdown",
   "id": "20eab226-721d-41a9-aa7f-389e3544b004",
   "metadata": {},
   "source": [
    "Display the first few rows of the data."
   ]
  },
  {
   "cell_type": "code",
   "execution_count": null,
   "id": "415beda1-3bb4-40a5-8da6-265dcf5bb304",
   "metadata": {},
   "outputs": [],
   "source": [
    "# Your code here"
   ]
  },
  {
   "cell_type": "markdown",
   "id": "68a7ef44-1669-4243-b59e-affad7d15393",
   "metadata": {},
   "source": [
    "### 6.2 Clean the Data\n",
    "Some of the rows in the data contain **missing** or **invalid** values so we need to \"clean\" our data. We will start by replacing the **blank spaces with NaN**, run the cell below."
   ]
  },
  {
   "cell_type": "code",
   "execution_count": null,
   "id": "ee5c2868-30e4-4b8b-815b-7c72057a4248",
   "metadata": {},
   "outputs": [],
   "source": [
    "df_clean = df.applymap(lambda x: np.nan if isinstance(x, str) and x.isspace() else x)"
   ]
  },
  {
   "cell_type": "markdown",
   "id": "d8e4b667-4f2a-4c8a-95ab-0b112a90ff5c",
   "metadata": {},
   "source": [
    "Drop the rows with missing (NaN) values. *Hint: Use the `.dropna()` function`."
   ]
  },
  {
   "cell_type": "code",
   "execution_count": null,
   "id": "d18e4d9c-fb32-4553-babe-efb4ac263157",
   "metadata": {},
   "outputs": [],
   "source": [
    "# Your code here"
   ]
  },
  {
   "cell_type": "markdown",
   "id": "97f2adeb-e829-497f-85f3-a226d92d4c86",
   "metadata": {},
   "source": [
    "Run the cell below. We are converting the datatypes in the columns to floats."
   ]
  },
  {
   "cell_type": "code",
   "execution_count": null,
   "id": "39b81cd8-a9f4-40f4-a214-7a989ac125bb",
   "metadata": {},
   "outputs": [],
   "source": [
    "df_clean[['Vmag', 'Plx', 'B-V']] = df_clean[['Vmag', 'Plx', 'B-V']].astype(float)\n",
    "\n",
    "# Display dataset summary\n",
    "print(df_clean.describe())"
   ]
  },
  {
   "cell_type": "markdown",
   "id": "fd13c56d-cb04-4d40-938b-b258970dc0d8",
   "metadata": {},
   "source": [
    "### 6.3 Compute Absolute Magnitude\n",
    "The absolute magnitude ($M_V$) of a star is given by:\n",
    "\n",
    "$$\n",
    "M_V = V_{\\text{mag}} + 5 \\cdot \\log_{10}\\left(\\frac{\\text{Plx}}{100}\\right)\n",
    "$$\n",
    "\n",
    "Run the cell below."
   ]
  },
  {
   "cell_type": "code",
   "execution_count": null,
   "id": "0fa1ff3a-1e5a-452f-91b8-7f39e6b7d0e8",
   "metadata": {},
   "outputs": [],
   "source": [
    "df_clean['M_V'] = df_clean['Vmag'] + 5 * np.log10(df_clean['Plx'] / 100)\n",
    "print(df_clean[['Vmag', 'Plx', 'M_V']].head())"
   ]
  },
  {
   "cell_type": "markdown",
   "id": "0f19ad27-db3e-461f-a8ae-8a5962773953",
   "metadata": {},
   "source": [
    "Describe what the cell above is doing. "
   ]
  },
  {
   "cell_type": "code",
   "execution_count": null,
   "id": "80276c93-3495-4a37-9111-9b9eb11add82",
   "metadata": {},
   "outputs": [],
   "source": [
    "# Your comment here"
   ]
  },
  {
   "cell_type": "markdown",
   "id": "fb6afddb-0c5b-4811-96e1-7bcf15c1d802",
   "metadata": {},
   "source": [
    "### 6.4 Process the Spectral Types\n",
    "Stars are defined by their spectral types:\n",
    "* The first letter (O, B, A, F, G, K, M) indicates the **temperature** of a star.\n",
    "* The digit (0-9) refines the **classification**.\n",
    "\n",
    "Now we will extract the first two characters for sorting purposes. Run the cell below."
   ]
  },
  {
   "cell_type": "code",
   "execution_count": null,
   "id": "f1b74b64-fc0b-4c1a-bc68-a00e55e2f3e2",
   "metadata": {},
   "outputs": [],
   "source": [
    "# Extract the first two characters (e.g., 'G2', 'K3')\n",
    "df_clean['SpType2'] = df_clean['SpType'].str[:2]\n",
    "\n",
    "# Keep only valid spectral classes\n",
    "df_clean = df_clean[df_clean['SpType2'].str.match(r'^[OBAFGKM][0-9]')]\n",
    "\n",
    "# Display unique spectral types\n",
    "print(df_clean['SpType2'].unique())"
   ]
  },
  {
   "cell_type": "markdown",
   "id": "e7c0ad4b-5c76-45bc-b178-34a23017c3bb",
   "metadata": {},
   "source": [
    "What letter represents the **hottest** stars? What letter represents the **coldest** stars?"
   ]
  },
  {
   "cell_type": "code",
   "execution_count": null,
   "id": "573271d3-c7f3-4afd-b8a0-10ba1b398885",
   "metadata": {},
   "outputs": [],
   "source": [
    "# Your comment here"
   ]
  },
  {
   "cell_type": "markdown",
   "id": "8463dc23-d734-41c0-845c-bd0a5369f597",
   "metadata": {},
   "source": [
    "### 6.5 Plot the H-R Diagram(s)\n",
    "Conver the spectral types into sortable numerical categories. Run the cell below."
   ]
  },
  {
   "cell_type": "code",
   "execution_count": null,
   "id": "5e450b4e-54d6-487a-9837-6314dee5e592",
   "metadata": {},
   "outputs": [],
   "source": [
    "order = {'O': 0, 'B': 1, 'A': 2, 'F': 3, 'G': 4, 'K': 5, 'M': 6}\n",
    "df_clean['SpType2_numeric'] = df_clean['SpType2'].apply(lambda x: order[x[0]]*10 + int(x[1]))"
   ]
  },
  {
   "cell_type": "markdown",
   "id": "976ca35f-d8bd-48da-8e02-4ff6850993f5",
   "metadata": {},
   "source": [
    "Import `matplotlib.pyplot` in the cell below."
   ]
  },
  {
   "cell_type": "code",
   "execution_count": 1,
   "id": "6cb91e79-3650-4465-adbf-a99c5fd449f1",
   "metadata": {},
   "outputs": [],
   "source": [
    "# Your code here"
   ]
  },
  {
   "cell_type": "markdown",
   "id": "70add81e-5fcd-40c8-86d9-d41ce58decd0",
   "metadata": {},
   "source": [
    "**Spectral Type vs. Absolute Magnitude** \\\n",
    "Scatter the `df_clean['SpType2_numeric']` on the x-axis and the `df_clean['M_V']` on the y-axis. Add the following features:\n",
    "* In the `plt.scatter` function, give arguments of: `s=5`, `alpha=0.3` and `c='k'`.\n",
    "* Set a `xlim` of `(0, 70).\n",
    "* Set a `ylim` of `(15, -10).\n",
    "* Call `xticklabels(['O', 'B', 'A', 'F', 'G', 'K', 'M'])`.\n",
    "* Call `xticks(range(5,75,10))`.\n",
    "* Title the x-axis `'Spectral Type'`.\n",
    "* Title the y-axis `Absolute Magnitude`.\n",
    "* Give a title of `H-R Diagram (Hipparcos catalog)`."
   ]
  },
  {
   "cell_type": "code",
   "execution_count": 2,
   "id": "b5b7e592-94a2-4f9f-b51a-d167c1105434",
   "metadata": {},
   "outputs": [],
   "source": [
    "# Your code here"
   ]
  },
  {
   "cell_type": "markdown",
   "id": "38186028-0d2b-4192-a9f5-6557d66319c3",
   "metadata": {},
   "source": [
    "**Color Index (B-V) vs. Absolute Magnitude** \\\n",
    "Scatter the `df_clean['B-V']` on the x-axis and the `df_clean['M_V']` on the y-axis. Add the following features:\n",
    "* In the `plt.scatter` function, give arguments of: `s=5`, `alpha=0.3` and `c='k'`.\n",
    "* Set a `xlim` of `(-0.5, 2.5).\n",
    "* Set a `ylim` of `(15, -10).\n",
    "* Title the x-axis `'Color Index (B-V)'`.\n",
    "* Title the y-axis `Absolute Magnitude`.\n",
    "* Give a title of `H-R Diagram (Hipparcos catalog)`."
   ]
  },
  {
   "cell_type": "code",
   "execution_count": 3,
   "id": "5cf19bc5-ff91-4ccd-a3a4-41875d28258b",
   "metadata": {},
   "outputs": [],
   "source": [
    "# Your code here"
   ]
  },
  {
   "cell_type": "markdown",
   "id": "f6338e24-12b8-4132-a65d-dbecf26a8543",
   "metadata": {},
   "source": [
    "### 6.6 Highlight Luminosity Classes\n",
    "Great! Finally, we want to difference between our three main luminosity classes:\n",
    "* Main Sequence (V), aka what our sun is\n",
    "* Giants (III)\n",
    "* Supergiants(I)\n",
    "\n",
    "Run the cell below."
   ]
  },
  {
   "cell_type": "code",
   "execution_count": null,
   "id": "ea9a3d5b-8838-4e8d-8e32-316a10616015",
   "metadata": {},
   "outputs": [],
   "source": [
    "def plot_luminosity_class(df, label, color):\n",
    "    mask = df['SpType'].str.contains(label, na=False)\n",
    "    plt.scatter(df[mask]['B-V'], df[mask]['M_V'], s=5, label=label, c=color, alpha=0.5)\n",
    "\n",
    "plt.figure(figsize=(8,10))\n",
    "plt.grid()\n",
    "plt.xlim(-0.5, 2.5)\n",
    "plt.ylim(15, -10)\n",
    "plt.xlabel('Color Index (B-V)')\n",
    "plt.ylabel('Absolute Magnitude')\n",
    "plt.title('H-R Diagram with Luminosity Classes')\n",
    "\n",
    "plot_luminosity_class(df_clean, 'V', 'black')  # Main Sequence\n",
    "plot_luminosity_class(df_clean, 'III', 'green')  # Giants\n",
    "plot_luminosity_class(df_clean, 'I', 'red')  # Supergiants\n",
    "\n",
    "plt.legend()\n",
    "plt.show()\n"
   ]
  },
  {
   "cell_type": "markdown",
   "id": "c5d936d2-dfd7-45f1-b384-c44afcf2dcb5",
   "metadata": {},
   "source": [
    "With the example above, now plot the following types **WITH** and then **WITHOUT** the ones above:\n",
    "* Subdwarfs (VI)\n",
    "* White dwarfs (VII)\n",
    "* Subgiants (IV)\n",
    "* Bright giants (II)"
   ]
  },
  {
   "cell_type": "code",
   "execution_count": 4,
   "id": "9a49f74f-df19-4fec-b087-62315a6549b6",
   "metadata": {},
   "outputs": [],
   "source": [
    "# Your code here"
   ]
  },
  {
   "cell_type": "markdown",
   "id": "47f963d2-0c08-42ba-a254-f336f5761ecf",
   "metadata": {},
   "source": [
    "Submit your FITS file and this notebook to Gradescope!"
   ]
  }
 ],
 "metadata": {
  "kernelspec": {
   "display_name": "Python 3 (ipykernel)",
   "language": "python",
   "name": "python3"
  },
  "language_info": {
   "codemirror_mode": {
    "name": "ipython",
    "version": 3
   },
   "file_extension": ".py",
   "mimetype": "text/x-python",
   "name": "python",
   "nbconvert_exporter": "python",
   "pygments_lexer": "ipython3",
   "version": "3.11.0"
  }
 },
 "nbformat": 4,
 "nbformat_minor": 5
}
