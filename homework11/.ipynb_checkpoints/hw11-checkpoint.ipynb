{
 "cells": [
  {
   "cell_type": "markdown",
   "id": "43ccf68c-d4b2-49e2-9d8e-ed084a253497",
   "metadata": {},
   "source": [
    "# HW 11 - Fall Semester Review\n",
    "ULAB - Physics and Astronomy Division \\\n",
    "Due **Sunday, February 2nd, 2025 at 11:59pm** on Gradescope\n",
    "\n",
    "To prepare for next week’s homework, where we’ll explore exoplanets using **pandas**, this assignment will review fundamental Python concepts within the same theme. "
   ]
  },
  {
   "cell_type": "markdown",
   "id": "8bcba317-e05a-4e81-8117-c301b5bf7d15",
   "metadata": {},
   "source": [
    "## 0 Academic Integrity\n",
    "Please type the following message in the cell below as a comment. Sign with your name.\n",
    "\n",
    "------\n",
    "**I certify that I did not use AI tools, such as ChatGPT, to generate or write code for this assignment. All work submitted is my own and reflects my understanding of the material.**\n",
    "\n",
    "------"
   ]
  },
  {
   "cell_type": "code",
   "execution_count": 1,
   "id": "1194054d-877b-40a6-8b37-d6f6f0567d29",
   "metadata": {},
   "outputs": [],
   "source": [
    "# Your comment here"
   ]
  },
  {
   "cell_type": "markdown",
   "id": "2c02945c-b6aa-4d3a-b0e8-670a12b22284",
   "metadata": {},
   "source": [
    "## 1 Functions\n",
    "**Orbital Periods and Kepler's Third Law** \\\n",
    "Kepler's Third Law states that the square of the orbital period $T$ (in years) of a planet is proportional to the cube of the semi-major axis $a$ (in astronomical units, AU):\n",
    "\n",
    "$$\n",
    "T^2 = a^3\n",
    "$$\n",
    "\n",
    "Write a **function** that calculates the orbital period $T$ given the semi-major axis $a$. (So, you can assume that $T = \\sqrt{a^3}$.)"
   ]
  },
  {
   "cell_type": "code",
   "execution_count": null,
   "id": "5e44b709-80e6-4243-aa0b-f2d1a3c2cbf3",
   "metadata": {},
   "outputs": [],
   "source": [
    "# Your code here (WITHOUT NUMPY! or any other modules/libraries/packages)"
   ]
  },
  {
   "cell_type": "markdown",
   "id": "69109c9c-2e52-4e5a-a6b7-99437ac968f4",
   "metadata": {},
   "source": [
    "Call your function with the following values: \n",
    "* `planet_a` $ = 0.5\\,\\text{AU}$\n",
    "* `planet_b` $ = 1.0\\,\\text{AU}$\n",
    "* `planet_c` $ = 1.5\\,\\text{AU}$"
   ]
  },
  {
   "cell_type": "code",
   "execution_count": null,
   "id": "a1e51eb3-81a7-4c4b-a3f0-81ceabb5e0fa",
   "metadata": {},
   "outputs": [],
   "source": [
    "# Your code here"
   ]
  },
  {
   "cell_type": "markdown",
   "id": "45135f7c-eb19-43ff-8f02-c7a16d3079b6",
   "metadata": {},
   "source": [
    "Import `numpy` in the cell below."
   ]
  },
  {
   "cell_type": "code",
   "execution_count": null,
   "id": "8f71cb90-dc81-482c-b166-787e7a6c4f32",
   "metadata": {},
   "outputs": [],
   "source": [
    "# Your code here"
   ]
  },
  {
   "cell_type": "markdown",
   "id": "889fafc4-560b-4483-853e-dde03af740e9",
   "metadata": {},
   "source": [
    "How many times do you need to call numpy in a jupyter notebook? Why?"
   ]
  },
  {
   "cell_type": "code",
   "execution_count": null,
   "id": "30806788-87ec-4486-81df-79ca3c0f0fda",
   "metadata": {},
   "outputs": [],
   "source": [
    "# Your comment (2 sentences)"
   ]
  },
  {
   "cell_type": "markdown",
   "id": "eb4dc813-39d9-4320-8124-3336c7ce6066",
   "metadata": {},
   "source": [
    "Rewrite your **function** from above with a `numpy` function. "
   ]
  },
  {
   "cell_type": "code",
   "execution_count": null,
   "id": "6826dbc5-e0d0-4a0d-9e18-bb59d8f7bf9f",
   "metadata": {},
   "outputs": [],
   "source": [
    "# Your code here"
   ]
  },
  {
   "cell_type": "markdown",
   "id": "0f4b4747-9600-4e1a-a4d3-f792a77fc6d5",
   "metadata": {},
   "source": [
    "Import the `time` package in the cell below."
   ]
  },
  {
   "cell_type": "code",
   "execution_count": null,
   "id": "5df91bc1-f123-47cf-9af9-cf52ea567e88",
   "metadata": {},
   "outputs": [],
   "source": [
    "# Your code here"
   ]
  },
  {
   "cell_type": "markdown",
   "id": "7cdb4331-238b-4918-a7b8-3c7b6cb1b9a4",
   "metadata": {},
   "source": [
    "Call both of your functions in the cell below with ($a$ = 5). Time how long it takes each of your functions to run. **DO NOT REWRITE THEM!** "
   ]
  },
  {
   "cell_type": "code",
   "execution_count": null,
   "id": "e6a99ef3-5aad-4916-b877-5651630e35b3",
   "metadata": {},
   "outputs": [],
   "source": [
    "# Your code here"
   ]
  },
  {
   "cell_type": "markdown",
   "id": "e2736b3a-533c-4fce-8258-8a7174348a5d",
   "metadata": {},
   "source": [
    "Which function is faster? Why is it faster? What does that tell you about numpy functions?"
   ]
  },
  {
   "cell_type": "code",
   "execution_count": null,
   "id": "5ba971d4-a2db-4ec2-8992-12727287c4d1",
   "metadata": {},
   "outputs": [],
   "source": [
    "# Your comment here"
   ]
  },
  {
   "cell_type": "markdown",
   "id": "6e3c5912-1c81-4e95-b7a7-4b46e6cb45e5",
   "metadata": {},
   "source": [
    "Define a **list** in the cell below that contains a least 1000 semi-major axis values."
   ]
  },
  {
   "cell_type": "code",
   "execution_count": null,
   "id": "7361896e-e2b3-47af-b386-7e051c2b1917",
   "metadata": {},
   "outputs": [],
   "source": [
    "# Your code here"
   ]
  },
  {
   "cell_type": "markdown",
   "id": "912ecdc6-f5b7-4fb5-90ea-7c3486e80c1e",
   "metadata": {},
   "source": [
    "With a **for** loop. Time each of your functions again with this new list. "
   ]
  },
  {
   "cell_type": "code",
   "execution_count": null,
   "id": "e70d8625-8d45-4cea-bba3-3cba89cb8c68",
   "metadata": {},
   "outputs": [],
   "source": [
    "# Your code here"
   ]
  },
  {
   "cell_type": "markdown",
   "id": "84c8be8c-d27e-43bb-b818-ba2e85a268db",
   "metadata": {},
   "source": [
    "Which function is faster? Why is it faster? What does that tell you about numpy functions?"
   ]
  },
  {
   "cell_type": "code",
   "execution_count": null,
   "id": "9277953c-0aca-4f70-83b9-cd34627e85af",
   "metadata": {},
   "outputs": [],
   "source": [
    "# Your code here"
   ]
  },
  {
   "cell_type": "markdown",
   "id": "0d205e5d-23ac-47cd-98cc-a0a6c8b9d0ce",
   "metadata": {},
   "source": [
    "## 2 Indexing + Conditionals\n",
    "\n",
    "You are provided with a list of exoplanet radii (in Earth radii) and their equilibrium temperatures (in Kelvin):\n",
    "\n",
    "`radii = [1.2, 0.8, 1.5, 2.0, 1.0, 0.6]` \\\n",
    "`temperatures = [300, 400, 350, 280, 500, 450]`"
   ]
  },
  {
   "cell_type": "markdown",
   "id": "0901186a-b87c-4c6e-9d1e-d846d6b3f825",
   "metadata": {},
   "source": [
    "Write a loop to filter and print the radii of planets with temperatures below 350 K."
   ]
  },
  {
   "cell_type": "code",
   "execution_count": null,
   "id": "f98b8f8e-1619-4dc6-b398-1f8e07a45d15",
   "metadata": {},
   "outputs": [],
   "source": [
    "# Your code here"
   ]
  },
  {
   "cell_type": "markdown",
   "id": "4adddec6-c167-4f9d-ba33-863b1047e8c8",
   "metadata": {},
   "source": [
    "Use list slicing to extract and print the radii of the first three planets."
   ]
  },
  {
   "cell_type": "code",
   "execution_count": null,
   "id": "3d834fe4-08d5-4955-8a84-5012749d21c4",
   "metadata": {},
   "outputs": [],
   "source": [
    "# Your code here"
   ]
  },
  {
   "cell_type": "markdown",
   "id": "45c45290-ca63-4ec9-98da-6d521328ee83",
   "metadata": {},
   "source": [
    "Turn the radii and temperatures data into a dictionary. "
   ]
  },
  {
   "cell_type": "code",
   "execution_count": null,
   "id": "8bf30f1d-03aa-479f-bebb-6797b85d9430",
   "metadata": {},
   "outputs": [],
   "source": [
    "# Your code here"
   ]
  },
  {
   "cell_type": "markdown",
   "id": "45b492ad-b5c3-4eb7-9a2e-f33f544ea2c6",
   "metadata": {},
   "source": [
    "Give each of the planets in your dictionary a name. "
   ]
  },
  {
   "cell_type": "code",
   "execution_count": null,
   "id": "6cb88478-2265-4c69-b31d-7e7da0a08328",
   "metadata": {},
   "outputs": [],
   "source": [
    "# Your code here"
   ]
  },
  {
   "cell_type": "markdown",
   "id": "91ab99aa-cdbf-42ac-87d5-9af85a9596c2",
   "metadata": {},
   "source": [
    "Create a new dictionary of planets with radii between 1.0 and 2.0 Earth radii (inclusive)."
   ]
  },
  {
   "cell_type": "code",
   "execution_count": null,
   "id": "8ee7975f-a9cc-4fd4-87f5-f8ffe8725d9d",
   "metadata": {},
   "outputs": [],
   "source": [
    "# Your code here"
   ]
  },
  {
   "cell_type": "markdown",
   "id": "8baa7cbf-5e33-4cdc-a5a1-07b7ef24a98a",
   "metadata": {},
   "source": [
    "## 3 NumPy\n",
    "With your 1,000,000 semi-major axes list from Problem 1, convert it to a `numpy` array. "
   ]
  },
  {
   "cell_type": "code",
   "execution_count": null,
   "id": "933c7543-be50-44d0-8c68-85201242dc70",
   "metadata": {},
   "outputs": [],
   "source": [
    "# Your code here"
   ]
  },
  {
   "cell_type": "markdown",
   "id": "5fefc872-548b-47d9-b9e3-40166c44b7f8",
   "metadata": {},
   "source": [
    "With `numpy` find the mean, median, minimum and maximum."
   ]
  },
  {
   "cell_type": "code",
   "execution_count": null,
   "id": "f255500b-0ff6-4869-a18f-4d6b1173f420",
   "metadata": {},
   "outputs": [],
   "source": [
    "# Your code here"
   ]
  },
  {
   "cell_type": "markdown",
   "id": "f044bf7d-1107-45b3-be82-ba3f5dec380a",
   "metadata": {},
   "source": [
    "Google another `numpy` function and apply it to your data. Explain what it does in a comment."
   ]
  },
  {
   "cell_type": "code",
   "execution_count": null,
   "id": "c6f86d78-7d9a-4e97-9113-7d9588938738",
   "metadata": {},
   "outputs": [],
   "source": [
    "# Your code here"
   ]
  },
  {
   "cell_type": "markdown",
   "id": "57100a75-29a0-466c-99ed-067d4c7a3dd6",
   "metadata": {},
   "source": [
    "Turn the radii and temperatures from Problem 2 into a multi-dimensional array."
   ]
  },
  {
   "cell_type": "code",
   "execution_count": null,
   "id": "a8eb4442-f51d-4d6b-8d4b-766992178fd6",
   "metadata": {},
   "outputs": [],
   "source": [
    "# Your code here"
   ]
  },
  {
   "cell_type": "markdown",
   "id": "90eff94a-9b0f-4033-ab6d-33ade45ce039",
   "metadata": {},
   "source": [
    "Use a for loop to print the value on the second row, third column. "
   ]
  },
  {
   "cell_type": "code",
   "execution_count": null,
   "id": "0f82f846-ffb6-41ee-bca9-8e6929875a7d",
   "metadata": {},
   "outputs": [],
   "source": [
    "# Your code here"
   ]
  },
  {
   "cell_type": "markdown",
   "id": "5577a243-b856-4c74-9544-eeb4cdc4f116",
   "metadata": {},
   "source": [
    "Use a `numpy` arrive to print the value on the second row, third column. "
   ]
  },
  {
   "cell_type": "code",
   "execution_count": null,
   "id": "11ac10d4-235a-4e47-b5a6-06dc0ff2ed4a",
   "metadata": {},
   "outputs": [],
   "source": [
    "# Your code here"
   ]
  },
  {
   "cell_type": "markdown",
   "id": "c98b3c53-3775-40ce-bb9d-0796eac6cda8",
   "metadata": {},
   "source": [
    "## 4 Plotting\n",
    "Create a scatter plot of the following semi-major axes (x-axis) vs. orbital periods (y-axis). Label the axes, add a legend and add a title: \"Orbital Periods of Exoplanets.\"\n",
    "\n",
    "`semi_major_axes = [0.5, 1.0, 2.0, 1.5, 1.2, 0.8]`"
   ]
  },
  {
   "cell_type": "code",
   "execution_count": null,
   "id": "78ad21d8-f6e2-43cf-a396-6165badbf331",
   "metadata": {},
   "outputs": [],
   "source": [
    "# Your code here"
   ]
  },
  {
   "cell_type": "markdown",
   "id": "f4377731-8f55-49fc-a3ed-46f4f7a3756d",
   "metadata": {},
   "source": [
    "Create a bar plot of planet radii vs. their equilibrium temperatures. Label the axes, add a legend and add a title: \"Equilibrium Temperatures vs. Radii.\""
   ]
  },
  {
   "cell_type": "code",
   "execution_count": null,
   "id": "5d3a42d9-ed7d-4c43-8f76-31b76f2dd870",
   "metadata": {},
   "outputs": [],
   "source": [
    "# Your code here"
   ]
  },
  {
   "cell_type": "markdown",
   "id": "01789974-2e76-4cb4-9756-3db5e6ae163f",
   "metadata": {},
   "source": [
    "Put the scatter plot and bar plot on the same figure (horizonatally). "
   ]
  },
  {
   "cell_type": "code",
   "execution_count": null,
   "id": "91ffe9f0-8b44-4a57-88a2-d8637f5e60b2",
   "metadata": {},
   "outputs": [],
   "source": [
    "# Your code here"
   ]
  },
  {
   "cell_type": "markdown",
   "id": "89cca10f-29a4-4f26-a9b3-8afedc5b702a",
   "metadata": {},
   "source": [
    "## 5 Modules\n",
    "Choose a function from this homework and put it into a module. Import the module with the function below. Make sure to show the output."
   ]
  },
  {
   "cell_type": "code",
   "execution_count": null,
   "id": "23682c98-f7e7-4f16-8c05-8287dd874c82",
   "metadata": {},
   "outputs": [],
   "source": [
    "# Your code here"
   ]
  }
 ],
 "metadata": {
  "kernelspec": {
   "display_name": "Python 3 (ipykernel)",
   "language": "python",
   "name": "python3"
  },
  "language_info": {
   "codemirror_mode": {
    "name": "ipython",
    "version": 3
   },
   "file_extension": ".py",
   "mimetype": "text/x-python",
   "name": "python",
   "nbconvert_exporter": "python",
   "pygments_lexer": "ipython3",
   "version": "3.11.0"
  }
 },
 "nbformat": 4,
 "nbformat_minor": 5
}
