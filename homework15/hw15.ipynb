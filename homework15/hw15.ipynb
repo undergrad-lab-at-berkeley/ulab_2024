{
 "cells": [
  {
   "cell_type": "markdown",
   "id": "098671bb-ee88-4194-8470-d7ecafa6a897",
   "metadata": {},
   "source": [
    "# HW 15 - Animation\n",
    "ULAB - Physics and Astronomy Division \\\n",
    "Due **Sunday, March 9th, 2025 at 11:59pm** on Gradescope"
   ]
  },
  {
   "cell_type": "markdown",
   "id": "862147bf-0304-4c19-bc68-814b1c900f03",
   "metadata": {},
   "source": [
    "## 1 Modify the Animation from Lecture\n",
    "Modify the given sine wave animation so that the wave moves twice as fast. What parts of the code you you need to change, and why? Please specifically highlight this in your code"
   ]
  },
  {
   "cell_type": "code",
   "execution_count": null,
   "id": "aa1f7ef0-ac3b-4eb6-8a67-a2b46b8cc0bc",
   "metadata": {},
   "outputs": [],
   "source": [
    "# Your code here"
   ]
  },
  {
   "cell_type": "code",
   "execution_count": null,
   "id": "216b63f3-fa50-4c9c-80c5-841ffbbd9a41",
   "metadata": {},
   "outputs": [],
   "source": [
    "# Your comment here"
   ]
  },
  {
   "cell_type": "markdown",
   "id": "041de2e7-88e5-4369-b6f9-7d3645688fc4",
   "metadata": {},
   "source": [
    "Save the animation as a .mp4 or a .gif and include it you repository for submission. "
   ]
  },
  {
   "cell_type": "code",
   "execution_count": null,
   "id": "03c0ccd8-8f42-4a6a-b67a-5db9b4b1389b",
   "metadata": {},
   "outputs": [],
   "source": [
    "# Your code here"
   ]
  },
  {
   "cell_type": "markdown",
   "id": "2132a232-34a8-44d7-9be4-f3d12901bb6d",
   "metadata": {},
   "source": [
    "Explain what happens if you set `blit=True` in `FuncAnimation`? What happens if you set it to `blit=False`?"
   ]
  },
  {
   "cell_type": "code",
   "execution_count": null,
   "id": "38ad6031-9a11-4c6c-b303-2ec4d865495c",
   "metadata": {},
   "outputs": [],
   "source": [
    "# Your comment here"
   ]
  },
  {
   "cell_type": "markdown",
   "id": "893d72d1-bf1f-46e9-8db4-f10223092b81",
   "metadata": {},
   "source": [
    "## 2 A Different Animation\n",
    "Write an animation where a dot moves in a circular path instead of sine wave. *Hint: You will need to use `np.sin` and `np.cos`. "
   ]
  },
  {
   "cell_type": "code",
   "execution_count": null,
   "id": "afd93716-bcad-457e-bf61-96dc7464526c",
   "metadata": {},
   "outputs": [],
   "source": [
    "# Your code here"
   ]
  },
  {
   "cell_type": "markdown",
   "id": "37133adf-df2a-4d61-b8d1-def439723d86",
   "metadata": {},
   "source": [
    "Save the animation as a .mp4 or a .gif and include it you repository for submission. "
   ]
  },
  {
   "cell_type": "code",
   "execution_count": null,
   "id": "c5bb376d-8b40-4bbc-b01c-fdae2c468015",
   "metadata": {},
   "outputs": [],
   "source": [
    "# Your code here"
   ]
  },
  {
   "cell_type": "markdown",
   "id": "d7e7dabb-d6e2-4406-8502-a0509df0b4f0",
   "metadata": {},
   "source": [
    "## 3 Simulate Orbital Motion of Planets and a Comet\n",
    "**Check out the `example_solar_system_animation.mp4` as an example of what you will be creating in this problem.**\n",
    "\n",
    "Now you will simulate and visualize the orbital motion of Earth, Mars and a coment around the Sun using Newtonian gravity and Python. Here are the steps:\n",
    "* Calculate the gravitational forces acting on each body.\n",
    "* Update positions and velocities over time.\n",
    "* Simulate the motion of these celestial bodies over a period of 5 years.\n",
    "* Animate the results to observe orbital patterns. \n",
    "\n",
    "Let's dig a bit into the physics. The motion of celestial bodies follows **Newton's laws of motion and gravitation**:\n",
    "$$\n",
    "F = G \\frac{m_1 m_1}{r^2}\n",
    "$$\n",
    "\n",
    "where:\n",
    "* $F$ is the gravitational force.\n",
    "* $G = 6.67\\times10^{-11}$ is the gravitational constant\n",
    "* $m_1$, $m_2$ are the measses of the two objects.\n",
    "* $r$ is the distance between them.\n",
    "\n",
    "Using **Newton's Second Law**, the acceleration is given by:\n",
    "\n",
    "$$\n",
    "a = \\frac{F}{m}\n",
    "$$\n",
    "\n",
    "where $a$ is the acceleration, and $m$ is the object's mass. The velocity and position are updated with numerical integration:\n",
    "\n",
    "$$\n",
    "v = v + a \\cdot dt\n",
    "$$\n",
    "\n",
    "$$\n",
    "x = x + v \\cdot dt\n",
    "$$\n",
    "\n",
    "## 3.1 Implementing the Simulation\n",
    "Goal: Set up the **masses**, **initial positions** and **velocities** for the Sun, Earth, Mars and a comet. \n",
    "* Use SI units (meters, kilograms, seconds).\n",
    "* The Sun is at the origin (0, 0, 0)\n",
    "* Earth, Mars and the commet start at **aphelion** (farthest from the Sun).\n",
    "\n",
    "Start by defining the following initial variables in kilograms (or SI units):\n",
    "* `G`\n",
    "* `Ms` (the mass of the Sun, you will need to google this)\n",
    "* `Me` (the mass of the Earth)\n",
    "* `Mm` (the mass of Mars)\n",
    "* `Mc = 6.39e20` (the mass of a comet)\n",
    "* `AU` (astronomical unit, distance between Earth and the Sun)\n",
    "* `daysec` (how many seconds are in a day)"
   ]
  },
  {
   "cell_type": "code",
   "execution_count": null,
   "id": "bf78fffd-496d-42ff-9f45-2cfb5bcd594e",
   "metadata": {},
   "outputs": [],
   "source": [
    "# Your code here"
   ]
  },
  {
   "cell_type": "markdown",
   "id": "01d33e24-f698-43c0-aba9-d3de786737b2",
   "metadata": {},
   "source": [
    "Now we will define some initial velocities in meters per second:\n",
    "* `e_ap_v` (Earth at aphelion, google it, make sure its in SI units)\n",
    "* `m_ap_v` (Mars at aphelion)\n",
    "* `commet_v = 7000` (speed of the comet)"
   ]
  },
  {
   "cell_type": "code",
   "execution_count": null,
   "id": "f8c6c26b-4313-4e71-9ed2-2a2cf79c1302",
   "metadata": {},
   "outputs": [],
   "source": [
    "# Your code here"
   ]
  },
  {
   "cell_type": "markdown",
   "id": "9950cce0-fe60-442f-85d1-94e9f38dadbc",
   "metadata": {},
   "source": [
    "Run the cell below to define some gravitational constants because we expect no mass loss:"
   ]
  },
  {
   "cell_type": "code",
   "execution_count": null,
   "id": "b97494bc-bba0-4d4b-8e93-e18440253137",
   "metadata": {},
   "outputs": [],
   "source": [
    "# Your code here"
   ]
  },
  {
   "cell_type": "markdown",
   "id": "03c73c42-e83e-4fe4-a7bc-d8f4834b19f4",
   "metadata": {},
   "source": [
    "Define the initial positions of the Earth, Mars and the comet. Here is the Earth as an example:\n",
    "* `xe, ye, ze = 1.0167 * AU, 0, 0`\n",
    "\n",
    "Follow the same pattern for Mars (where the `x` coordinate is at `1.666 * AU`, everything else is zero) and the comet (where the `x` coordinate is at `2* AU`, the `y` coordinate is `0.3 * AU` and the `z` coordinate is zero) . Remember the sun is at the origin! "
   ]
  },
  {
   "cell_type": "code",
   "execution_count": null,
   "id": "ab71c0b1-2a11-4e00-bedb-58a41d5cd344",
   "metadata": {},
   "outputs": [],
   "source": [
    "# Your code here"
   ]
  },
  {
   "cell_type": "markdown",
   "id": "622978bc-bba8-4cb2-bab3-2bb2cc89930e",
   "metadata": {},
   "source": [
    "We will do the same thing but for initial velocities. Here is Earth as an example:\n",
    "* `xve, yve, zve = 0, e_ap_v, 0`\n",
    "\n",
    "Make variables for Mars but with `m_ap_v` as the `y` coordinate. Make variables for the commet but with `commet_v` as the `y` coordinate."
   ]
  },
  {
   "cell_type": "code",
   "execution_count": null,
   "id": "21f5bae8-2c2e-48e3-8ce9-c668b3be6f6d",
   "metadata": {},
   "outputs": [],
   "source": [
    "# Your code here"
   ]
  },
  {
   "cell_type": "markdown",
   "id": "7f075c9c-12a3-46c2-bc72-a4c11d90a29f",
   "metadata": {},
   "source": [
    "Assume the Sun is at the origin. Make initial positions and velocities for the Sun. It should not be moving so all its velocities coordinates are zero. "
   ]
  },
  {
   "cell_type": "code",
   "execution_count": null,
   "id": "35a327db-eb02-4eb3-912c-6935dbb8472d",
   "metadata": {},
   "outputs": [],
   "source": [
    "# Your code here"
   ]
  },
  {
   "cell_type": "markdown",
   "id": "78b75bdd-093d-423a-9214-eb2c4affea0d",
   "metadata": {},
   "source": [
    "Now we will define some time parameters for our simulation. Create variable for the initial time `t` and set it to zero. Create a variable called `dt` for the change in time (steps per day) and set it to `1 * daysec`. Create a varible for `years` and set it to `5`. Finally, create a varible for `sim_years` and set it equal to `years * 365 * daysec`."
   ]
  },
  {
   "cell_type": "code",
   "execution_count": null,
   "id": "2881a75b-9e40-4f96-8daf-53d460b1967d",
   "metadata": {},
   "outputs": [],
   "source": [
    "# Your code here"
   ]
  },
  {
   "cell_type": "markdown",
   "id": "6d2ae77a-b65a-4395-9a66-9538a55eb3d9",
   "metadata": {},
   "source": [
    "Create empty lists to store all of your varibles. Run the cell below."
   ]
  },
  {
   "cell_type": "code",
   "execution_count": null,
   "id": "136186bb-f513-4e0f-a4ab-4e06b58e6eb6",
   "metadata": {},
   "outputs": [],
   "source": [
    "# Store the orbits:"
   ]
  },
  {
   "cell_type": "markdown",
   "id": "48091e2d-6a74-4ae6-aaf2-d50718bff86c",
   "metadata": {},
   "source": [
    "## 3.2 Compute Gravitational Forces and Update Positions\n",
    "Goal:\n",
    "* Implement the **gravitational force equation** to calculate the force acting on each body.\n",
    "* Compute accelerations using $a = F/m$.\n",
    "* Update **velocity** and **position**.\n",
    "* Use a loop to update positions over **5 years**.\n",
    "* Store the results in lists for plotting.\n",
    "\n",
    "I will do this part for you, it requires some physics knowledge. But you need to turn this into a loop for when time is less than the simulation time. You want the loop to repeat it itself until that condition is met. "
   ]
  },
  {
   "cell_type": "code",
   "execution_count": null,
   "id": "abfe3bdf-b2ce-4b98-a8ed-82dd8253f349",
   "metadata": {},
   "outputs": [],
   "source": [
    "# Your code here\n",
    "################ Earth #############\n",
    "rx, ry, rz = xe - xs, ye - ys, ze - zs\n",
    "modr3_e = (rx**2 + ry**2 + rz**2)**1.5\n",
    "fx_e = -gravconst_e * rx / modr3_e\n",
    "fy_e = -gravconst_e * ry / modr3_e\n",
    "    \n",
    "xve += fx_e * dt / Me\n",
    "yve += fy_e * dt / Me\n",
    "xe += xve * dt\n",
    "ye += yve * dt\n",
    "    \n",
    "xelist.append(xe)\n",
    "yelist.append(ye)\n",
    "\n",
    "################ Mars ##############\n",
    "rx_m, ry_m, rz_m = xm - xs, ym - ys, zm - zs\n",
    "modr3_m = (rx_m**2 + ry_m**2 + rz_m**2)**1.5\n",
    "fx_m = -gravconst_m * rx_m / modr3_m\n",
    "fy_m = -gravconst_m * ry_m / modr3_m\n",
    "    \n",
    "xvm += fx_m * dt / Mm\n",
    "yvm += fy_m * dt / Mm\n",
    "xm += xvm * dt\n",
    "ym += yvm * dt\n",
    "    \n",
    "xmlist.append(xm)\n",
    "ymlist.append(ym)\n",
    "\n",
    "################ Comet ##############\n",
    "rx_c, ry_c, rz_c = xc - xs, yc - ys, zc - zs\n",
    "modr3_c = (rx_c**2 + ry_c**2 + rz_c**2)**1.5\n",
    "fx_c = -gravconst_c * rx_c / modr3_c\n",
    "fy_c = -gravconst_c * ry_c / modr3_c\n",
    "    \n",
    "xvc += fx_c * dt / Mc\n",
    "yvc += fy_c * dt / Mc\n",
    "xc += xvc * dt\n",
    "yc += yvc * dt\n",
    "    \n",
    "xclist.append(xc)\n",
    "yclist.append(yc)\n",
    "\n",
    "################ Sun ##############\n",
    "xvs += -(fx_e + fx_m) * dt / Ms\n",
    "yvs += -(fy_e + fy_m) * dt / Ms\n",
    "xs += xvs * dt\n",
    "ys += yvs * dt\n",
    "xslist.append(xs)\n",
    "yslist.append(ys)\n",
    "\n",
    "t += dt"
   ]
  },
  {
   "cell_type": "markdown",
   "id": "119fee40-3154-4a6a-91de-46f3c547e7d4",
   "metadata": {},
   "source": [
    "## 3.3 Visualization\n",
    "Goal: Plot the Orbits\n",
    "* After simulating the motion, **plot the orbits of Earth, Mars and the comet**.\n",
    "* Label the **Sun**, **Earth**, **Mars**, and **Comet**.\n",
    "\n",
    "Start by making a figure, set the `figsize=(8,8)`.\n",
    "* Plot the `yelist` as a function of `xelist`. Do this for the `xm`, `xc` and `xs` lists as well. Make sure each line is a **different colors**!\n",
    "  * The Sun will just be a point, so give it a markersize of `10`. Make it yellow.  \n",
    "* Give it a legend\n",
    "* Add an `xlabel` of `\"X Position (m)\"`.\n",
    "* Add an `ylabel` of `\"Y Position (m)\"`.\n",
    "* Give it a title.\n",
    "* Add a grid.\n",
    "* Show the plot."
   ]
  },
  {
   "cell_type": "code",
   "execution_count": null,
   "id": "fcb41bbc-403c-4d63-bb86-f68422528455",
   "metadata": {},
   "outputs": [],
   "source": [
    "# Your code here "
   ]
  },
  {
   "cell_type": "markdown",
   "id": "f8b87bd0-d5ca-4ae9-a0af-79fbe77af2a4",
   "metadata": {},
   "source": [
    "Goal: Animate the Motion\n",
    "* Create an animated visualization of planetary orbits.\n",
    "* Track the motion of each body over time.\n",
    "\n",
    "\\\n",
    "Follow the procedure from lecture. Here are some hints:\n",
    "* Set the `x` and `y` limits to `-3 * AU` to `3 * AU`. \\\n",
    "\n",
    "\n",
    "* Unpack the lines for Earth, Mars, the commet. Example: \n",
    "  * `line_e = axplot([], [], '-g', lw=1)` \\\n",
    "\n",
    "  \n",
    "* Unpack the points for Earth, Mars, the commet and the Sun. Example:\n",
    "  * `point_e, = ax.plot([],[],'bo',markersize=4)` \\\n",
    "\n",
    "* Give a title to each of the objects. Example:\n",
    "  * `text_e  = ax.text(AU,0,'Earth')`\n",
    "\n",
    "* Create the `update` function and update the lines, points and text you just unpacked. Example:\n",
    "  * `line_e.set_data(xelist[:i], yelist[:i])` \n",
    "  * `point_e.set_data(xelist[i], yelist[i])`\\\n",
    "  * `text_e.set_position((xelist[i],yelist[i]))`\n",
    "\n",
    "\n",
    "* Create the animation! Set `frames = len(xelist)`, `interval=1` and `blit=True`. "
   ]
  },
  {
   "cell_type": "code",
   "execution_count": null,
   "id": "e50f2ecf-ee37-4054-aab9-2b4243e4851f",
   "metadata": {},
   "outputs": [],
   "source": [
    "# Your code here"
   ]
  },
  {
   "cell_type": "markdown",
   "id": "6ce05065-b3b1-4c4c-a0e2-9ae54efb971b",
   "metadata": {},
   "source": [
    "## 3.4 Add Mercury, Venus and the Moon!\n",
    "As an extra challenge, give your best attempt at simulating Mercury, Venus and/or the Moon! I am not going to give you a ton of hints for this problem. Come to office hours if you have questions :)"
   ]
  },
  {
   "cell_type": "code",
   "execution_count": null,
   "id": "387cd33e-7270-4e16-b7fb-8b6588fd2cc5",
   "metadata": {},
   "outputs": [],
   "source": [
    "# Your code here"
   ]
  },
  {
   "cell_type": "markdown",
   "id": "1db677c8-8ae7-49ae-a7d7-68242ed38b67",
   "metadata": {},
   "source": [
    "Save you animation as a `.gif` or as a `.mp4`. Include this in your submission! This may take up to a couple mintutes!"
   ]
  },
  {
   "cell_type": "code",
   "execution_count": null,
   "id": "c83f3dd0-80eb-4b13-b291-f6e49a1590ea",
   "metadata": {},
   "outputs": [],
   "source": [
    "# Your code here\n",
    "anim.save(\"animation.mp4\", writer=\"ffmpeg\", fps=20)"
   ]
  },
  {
   "cell_type": "markdown",
   "id": "8e9e5858-fb81-45aa-91d1-3a52a189e0b3",
   "metadata": {},
   "source": [
    "Upload this notebook and your animations to Gradescope!"
   ]
  }
 ],
 "metadata": {
  "kernelspec": {
   "display_name": "Python 3 (ipykernel)",
   "language": "python",
   "name": "python3"
  },
  "language_info": {
   "codemirror_mode": {
    "name": "ipython",
    "version": 3
   },
   "file_extension": ".py",
   "mimetype": "text/x-python",
   "name": "python",
   "nbconvert_exporter": "python",
   "pygments_lexer": "ipython3",
   "version": "3.11.0"
  }
 },
 "nbformat": 4,
 "nbformat_minor": 5
}
